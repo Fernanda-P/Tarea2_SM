{
 "cells": [
  {
   "cell_type": "markdown",
   "metadata": {},
   "source": [
    "# Programming language of the year? Python is standout in latest rankings\n",
    "\n",
    ">_Python se ha vuelto muy popular como lenguaje de programación. Incluso llega a superar a Visual Basic.NET y Java._ \n",
    "\n",
    "Python fue creado en en 1989 por Guido van Rossum, y se volvió el primer idioma impartido en las universidades para el análisis estadístico, secuencias de comandos, programación web e información científica. \n",
    "\n",
    "Pero además de Python también existen otros lenguajes igual de útiles, por ejemplo, los 20 idiomas principales en orden descendente para enero de 2019 fueron Java, C, Python, C ++, Visual Basic .NET, JavaScript, C #, PHP, SQL, Objective-C, MATLAB, R, Perl, lenguaje ensamblador, Swift, Go, Delphi / Object Pascal, Ruby, PL / SQL y Visual Basic.\n",
    "\n",
    "Y por último, ahora ya existe solo una versión no varias, como los años anteriores, solo en Python 3 vas a poder trabajar, a partir del pasado primero de enero, de este año. \n"
   ]
  },
  {
   "cell_type": "markdown",
   "metadata": {},
   "source": [
    "# Python is becoming the world’s most popular coding language\n",
    "\n",
    "Python se ha vuelto muy popular, por ejemplo su número de consultas se ha triplicado desde 2010, mientras que las de otros lenguajes de programación importantes han estado en declive. \n",
    "\n",
    "Las ventajas que tiene este popular lenjuage de porgramación, es que es simple y flexible, porque su sintaxis y el uso de espacios sangrados hacen que sea fácil de aprender, leer y compartir\n",
    "\n",
    "Además, de que los usuarios de Python han subido aproximadamente 145,000 paquetes de software personalizados a un repositorio en línea, que van desde el desarrollo del juego hasta la astronomía, y se pueden instalar e insertar en un programa Python en cuestión de segundos.\n",
    "\n",
    ">Ejemplos de empresas que utilizan este lenguaje es la Agencia Central de Inteligencia, Google, Pixar y Spotify, es por eso que en un futuro se pretende que Python se convierta en la lengua de la codificación para todos.\n",
    "\n"
   ]
  },
  {
   "cell_type": "code",
   "execution_count": null,
   "metadata": {},
   "outputs": [],
   "source": []
  }
 ],
 "metadata": {
  "kernelspec": {
   "display_name": "Python 3",
   "language": "python",
   "name": "python3"
  },
  "language_info": {
   "codemirror_mode": {
    "name": "ipython",
    "version": 3
   },
   "file_extension": ".py",
   "mimetype": "text/x-python",
   "name": "python",
   "nbconvert_exporter": "python",
   "pygments_lexer": "ipython3",
   "version": "3.7.4"
  }
 },
 "nbformat": 4,
 "nbformat_minor": 2
}
